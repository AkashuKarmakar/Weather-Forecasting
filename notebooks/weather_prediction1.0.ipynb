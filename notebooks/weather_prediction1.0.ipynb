{
 "cells": [
  {
   "cell_type": "markdown",
   "id": "d2afa97a-d250-45cd-be4a-3747ba4151a9",
   "metadata": {},
   "source": [
    ">Data Preprocessing"
   ]
  },
  {
   "cell_type": "code",
   "execution_count": 6,
   "id": "06b784d0-15a5-471b-8405-479f58dba85e",
   "metadata": {},
   "outputs": [
    {
     "name": "stderr",
     "output_type": "stream",
     "text": [
      "Loading HGT_prl: 100%|█████████████████████████████████████████████████████████████████| 31/31 [00:07<00:00,  4.29it/s]\n",
      "Loading RH_prl: 100%|██████████████████████████████████████████████████████████████████| 31/31 [00:06<00:00,  4.54it/s]\n",
      "Loading TMP_prl: 100%|█████████████████████████████████████████████████████████████████| 31/31 [00:06<00:00,  4.69it/s]\n",
      "Loading UGRD_prl: 100%|████████████████████████████████████████████████████████████████| 31/31 [00:06<00:00,  4.73it/s]\n",
      "Loading VGRD_prl:  52%|█████████████████████████████████                               | 16/31 [00:03<00:03,  4.92it/s]C:\\Users\\karma\\anaconda3\\Lib\\site-packages\\numpy\\core\\fromnumeric.py:88: RuntimeWarning: overflow encountered in reduce\n",
      "  return ufunc.reduce(obj, axis, dtype, out, **passkwargs)\n",
      "Loading VGRD_prl: 100%|████████████████████████████████████████████████████████████████| 31/31 [00:06<00:00,  4.88it/s]\n"
     ]
    },
    {
     "name": "stdout",
     "output_type": "stream",
     "text": [
      "✅ All atmospheric variables processed and saved to CSV!\n"
     ]
    }
   ],
   "source": [
    "import os\n",
    "import xarray as xr\n",
    "import pandas as pd\n",
    "from tqdm import tqdm\n",
    "\n",
    "# ✅ Set your base data path\n",
    "base_path = \"F:/projects/personal project/data/Atmospheric_variable\"\n",
    "\n",
    "# ✅ Map custom variable names to their folder and internal NetCDF variable name\n",
    "variable_folders = {\n",
    "    \"HGT\": (\"IMDAA_HGT_prl_1.08_1990_2020\", \"HGT_prl\"),\n",
    "    \"RH\": (\"IMDAA_RH_prl_1.08_1990_2020\", \"RH_prl\"),\n",
    "    \"TMP\": (\"IMDAA_TMP_prl_1.08_1990_2020\", \"TMP_prl\"),\n",
    "    \"UGRD\": (\"IMDAA_UGRD_prl_1.08_1990_2020\", \"UGRD_prl\"),\n",
    "    \"VGRD\": (\"IMDAA_VGRD_prl_1.08_1990_2020\", \"VGRD_prl\")\n",
    "}\n",
    "\n",
    "def load_variable(nc_var_name, folder_name, level=0):\n",
    "    \"\"\"Load and process a NetCDF variable\"\"\"\n",
    "    folder_path = os.path.join(base_path, folder_name)\n",
    "    all_years = []\n",
    "\n",
    "    for fname in tqdm(sorted(os.listdir(folder_path)), desc=f\"Loading {nc_var_name}\"):\n",
    "        if fname.endswith(\".nc\"):\n",
    "            fpath = os.path.join(folder_path, fname)\n",
    "            try:\n",
    "                ds = xr.open_dataset(fpath)\n",
    "\n",
    "                # Rename if needed\n",
    "                if 'lat' in ds.dims: ds = ds.rename({'lat': 'latitude'})\n",
    "                if 'lon' in ds.dims: ds = ds.rename({'lon': 'longitude'})\n",
    "\n",
    "                data = ds[nc_var_name]\n",
    "\n",
    "                # Select one pressure level\n",
    "                if 'level' in data.dims:\n",
    "                    data = data.isel(level=level)\n",
    "\n",
    "                # Spatial average\n",
    "                spatial_avg = data.mean(dim=[\"latitude\", \"longitude\"], skipna=True)\n",
    "\n",
    "                # Daily average\n",
    "                daily_avg = spatial_avg.resample(time='1D').mean()\n",
    "\n",
    "                df = daily_avg.to_dataframe(name=nc_var_name)\n",
    "                all_years.append(df)\n",
    "                ds.close()\n",
    "\n",
    "            except Exception as e:\n",
    "                print(f\"⚠️ Error reading {fpath}: {e}\")\n",
    "\n",
    "    return pd.concat(all_years)\n",
    "\n",
    "# ✅ Load and combine all variables\n",
    "df_all = None\n",
    "\n",
    "for custom_name, (folder, nc_var_name) in variable_folders.items():\n",
    "    df = load_variable(nc_var_name, folder)\n",
    "    df.rename(columns={nc_var_name: custom_name}, inplace=True)\n",
    "    if df_all is None:\n",
    "        df_all = df\n",
    "    else:\n",
    "        df_all = df_all.join(df, how=\"outer\")\n",
    "\n",
    "# Drop missing values\n",
    "df_all.dropna(inplace=True)\n",
    "\n",
    "# Save\n",
    "df_all.to_csv(\"F:/projects/personal project/weather prediction_v1/data/weather_atmospheric_processed.csv\")\n",
    "print(\"✅ All atmospheric variables processed and saved to CSV!\")\n"
   ]
  },
  {
   "cell_type": "code",
   "execution_count": 8,
   "id": "c4f28f80-76fa-4462-a261-3533170e7cbf",
   "metadata": {},
   "outputs": [
    {
     "name": "stdout",
     "output_type": "stream",
     "text": [
      "✅ No NaN or Inf values in training/testing sets.\n"
     ]
    }
   ],
   "source": [
    "import pandas as pd\n",
    "import numpy as np\n",
    "from sklearn.model_selection import train_test_split\n",
    "from sklearn.preprocessing import MinMaxScaler\n",
    "\n",
    "# 1. Load dataset\n",
    "df = pd.read_csv(\"F:/projects/personal project/weather prediction_v1/data/weather_atmospheric_processed.csv\", index_col=0, parse_dates=True)\n",
    "\n",
    "# 2. Shift TMP to create prediction target\n",
    "df[\"TMP_target\"] = df[\"TMP\"].shift(-1)\n",
    "\n",
    "# 3. Drop rows with NaN, inf, or -inf\n",
    "df.replace([np.inf, -np.inf], np.nan, inplace=True)\n",
    "df.dropna(inplace=True)\n",
    "\n",
    "# 4. Feature set and target\n",
    "features = [\"HGT\", \"RH\", \"TMP\", \"UGRD\", \"VGRD\"]\n",
    "X = df[features]\n",
    "y = df[\"TMP_target\"]\n",
    "\n",
    "# 5. Split into train/test (chronologically)\n",
    "X_train, X_test, y_train, y_test = train_test_split(\n",
    "    X, y, shuffle=False, test_size=0.2\n",
    ")\n",
    "\n",
    "# 6. Scale inputs using MinMaxScaler\n",
    "scaler = MinMaxScaler()\n",
    "X_train_scaled = scaler.fit_transform(X_train)\n",
    "X_test_scaled = scaler.transform(X_test)\n",
    "\n",
    "# ✅ Sanity check\n",
    "print(\"✅ No NaN or Inf values in training/testing sets.\")\n"
   ]
  },
  {
   "cell_type": "code",
   "execution_count": 10,
   "id": "e231bf6a-ea9e-43c0-9312-f3bd7f19093b",
   "metadata": {},
   "outputs": [],
   "source": [
    "from sklearn.ensemble import RandomForestRegressor\n",
    "\n",
    "rf = RandomForestRegressor(n_estimators=100, random_state=42)\n",
    "rf.fit(X_train_scaled, y_train)\n",
    "rf_preds = rf.predict(X_test_scaled)\n"
   ]
  },
  {
   "cell_type": "code",
   "execution_count": 12,
   "id": "77d778a5-8063-4881-95a6-f12b93c0145d",
   "metadata": {},
   "outputs": [
    {
     "name": "stderr",
     "output_type": "stream",
     "text": [
      "C:\\Users\\karma\\anaconda3\\Lib\\site-packages\\keras\\src\\layers\\rnn\\rnn.py:200: UserWarning: Do not pass an `input_shape`/`input_dim` argument to a layer. When using Sequential models, prefer using an `Input(shape)` object as the first layer in the model instead.\n",
      "  super().__init__(**kwargs)\n"
     ]
    },
    {
     "name": "stdout",
     "output_type": "stream",
     "text": [
      "Epoch 1/20\n",
      "\u001b[1m3680/3680\u001b[0m \u001b[32m━━━━━━━━━━━━━━━━━━━━\u001b[0m\u001b[37m\u001b[0m \u001b[1m7s\u001b[0m 1ms/step - loss: 45046.2969\n",
      "Epoch 2/20\n",
      "\u001b[1m3680/3680\u001b[0m \u001b[32m━━━━━━━━━━━━━━━━━━━━\u001b[0m\u001b[37m\u001b[0m \u001b[1m4s\u001b[0m 1ms/step - loss: 6985.0542\n",
      "Epoch 3/20\n",
      "\u001b[1m3680/3680\u001b[0m \u001b[32m━━━━━━━━━━━━━━━━━━━━\u001b[0m\u001b[37m\u001b[0m \u001b[1m4s\u001b[0m 1ms/step - loss: 1138.1589\n",
      "Epoch 4/20\n",
      "\u001b[1m3680/3680\u001b[0m \u001b[32m━━━━━━━━━━━━━━━━━━━━\u001b[0m\u001b[37m\u001b[0m \u001b[1m4s\u001b[0m 1ms/step - loss: 465.1202\n",
      "Epoch 5/20\n",
      "\u001b[1m3680/3680\u001b[0m \u001b[32m━━━━━━━━━━━━━━━━━━━━\u001b[0m\u001b[37m\u001b[0m \u001b[1m5s\u001b[0m 1ms/step - loss: 461.4921\n",
      "Epoch 6/20\n",
      "\u001b[1m3680/3680\u001b[0m \u001b[32m━━━━━━━━━━━━━━━━━━━━\u001b[0m\u001b[37m\u001b[0m \u001b[1m5s\u001b[0m 1ms/step - loss: 454.2203\n",
      "Epoch 7/20\n",
      "\u001b[1m3680/3680\u001b[0m \u001b[32m━━━━━━━━━━━━━━━━━━━━\u001b[0m\u001b[37m\u001b[0m \u001b[1m5s\u001b[0m 1ms/step - loss: 456.7516\n",
      "Epoch 8/20\n",
      "\u001b[1m3680/3680\u001b[0m \u001b[32m━━━━━━━━━━━━━━━━━━━━\u001b[0m\u001b[37m\u001b[0m \u001b[1m5s\u001b[0m 1ms/step - loss: 451.5705\n",
      "Epoch 9/20\n",
      "\u001b[1m3680/3680\u001b[0m \u001b[32m━━━━━━━━━━━━━━━━━━━━\u001b[0m\u001b[37m\u001b[0m \u001b[1m5s\u001b[0m 1ms/step - loss: 408.9851\n",
      "Epoch 10/20\n",
      "\u001b[1m3680/3680\u001b[0m \u001b[32m━━━━━━━━━━━━━━━━━━━━\u001b[0m\u001b[37m\u001b[0m \u001b[1m5s\u001b[0m 1ms/step - loss: 374.6411\n",
      "Epoch 11/20\n",
      "\u001b[1m3680/3680\u001b[0m \u001b[32m━━━━━━━━━━━━━━━━━━━━\u001b[0m\u001b[37m\u001b[0m \u001b[1m6s\u001b[0m 2ms/step - loss: 329.9389\n",
      "Epoch 12/20\n",
      "\u001b[1m3680/3680\u001b[0m \u001b[32m━━━━━━━━━━━━━━━━━━━━\u001b[0m\u001b[37m\u001b[0m \u001b[1m9s\u001b[0m 2ms/step - loss: 274.0384\n",
      "Epoch 13/20\n",
      "\u001b[1m3680/3680\u001b[0m \u001b[32m━━━━━━━━━━━━━━━━━━━━\u001b[0m\u001b[37m\u001b[0m \u001b[1m5s\u001b[0m 1ms/step - loss: 226.0427\n",
      "Epoch 14/20\n",
      "\u001b[1m3680/3680\u001b[0m \u001b[32m━━━━━━━━━━━━━━━━━━━━\u001b[0m\u001b[37m\u001b[0m \u001b[1m6s\u001b[0m 2ms/step - loss: 180.2550\n",
      "Epoch 15/20\n",
      "\u001b[1m3680/3680\u001b[0m \u001b[32m━━━━━━━━━━━━━━━━━━━━\u001b[0m\u001b[37m\u001b[0m \u001b[1m6s\u001b[0m 2ms/step - loss: 121.3328\n",
      "Epoch 16/20\n",
      "\u001b[1m3680/3680\u001b[0m \u001b[32m━━━━━━━━━━━━━━━━━━━━\u001b[0m\u001b[37m\u001b[0m \u001b[1m4s\u001b[0m 1ms/step - loss: 80.7478\n",
      "Epoch 17/20\n",
      "\u001b[1m3680/3680\u001b[0m \u001b[32m━━━━━━━━━━━━━━━━━━━━\u001b[0m\u001b[37m\u001b[0m \u001b[1m5s\u001b[0m 1ms/step - loss: 45.9867\n",
      "Epoch 18/20\n",
      "\u001b[1m3680/3680\u001b[0m \u001b[32m━━━━━━━━━━━━━━━━━━━━\u001b[0m\u001b[37m\u001b[0m \u001b[1m10s\u001b[0m 1ms/step - loss: 23.2585\n",
      "Epoch 19/20\n",
      "\u001b[1m3680/3680\u001b[0m \u001b[32m━━━━━━━━━━━━━━━━━━━━\u001b[0m\u001b[37m\u001b[0m \u001b[1m4s\u001b[0m 1ms/step - loss: 11.6309\n",
      "Epoch 20/20\n",
      "\u001b[1m3680/3680\u001b[0m \u001b[32m━━━━━━━━━━━━━━━━━━━━\u001b[0m\u001b[37m\u001b[0m \u001b[1m4s\u001b[0m 1ms/step - loss: 5.9728\n",
      "\u001b[1m920/920\u001b[0m \u001b[32m━━━━━━━━━━━━━━━━━━━━\u001b[0m\u001b[37m\u001b[0m \u001b[1m1s\u001b[0m 740us/step\n"
     ]
    }
   ],
   "source": [
    "import numpy as np\n",
    "from tensorflow.keras.models import Sequential\n",
    "from tensorflow.keras.layers import LSTM, Dense\n",
    "\n",
    "# Reshape for LSTM: (samples, timesteps, features)\n",
    "X_train_lstm = X_train_scaled.reshape((X_train_scaled.shape[0], 1, X_train_scaled.shape[1]))\n",
    "X_test_lstm = X_test_scaled.reshape((X_test_scaled.shape[0], 1, X_test_scaled.shape[1]))\n",
    "\n",
    "# Build LSTM model\n",
    "lstm = Sequential()\n",
    "lstm.add(LSTM(50, input_shape=(1, X_train_scaled.shape[1])))\n",
    "lstm.add(Dense(1))\n",
    "lstm.compile(optimizer='adam', loss='mse')\n",
    "\n",
    "# Train\n",
    "lstm.fit(X_train_lstm, y_train, epochs=20, batch_size=32, verbose=1)\n",
    "lstm_preds = lstm.predict(X_test_lstm).flatten()\n"
   ]
  },
  {
   "cell_type": "code",
   "execution_count": 13,
   "id": "9f49e6ca-2f5b-4837-afb1-2bf40a5617d8",
   "metadata": {},
   "outputs": [
    {
     "name": "stdout",
     "output_type": "stream",
     "text": [
      "\n",
      "📊 Random Forest Evaluation:\n",
      "MAE: 0.5277\n",
      "RMSE: 0.8319\n",
      "R² Score: 0.9994\n",
      "\n",
      "📊 LSTM Evaluation:\n",
      "MAE: 1.3916\n",
      "RMSE: 2.0965\n",
      "R² Score: 0.9964\n"
     ]
    }
   ],
   "source": [
    "from sklearn.metrics import mean_absolute_error, mean_squared_error, r2_score\n",
    "import numpy as np\n",
    "\n",
    "def evaluate_model(name, y_true, y_pred):\n",
    "    print(f\"\\n📊 {name} Evaluation:\")\n",
    "    print(f\"MAE: {mean_absolute_error(y_true, y_pred):.4f}\")\n",
    "    print(f\"RMSE: {np.sqrt(mean_squared_error(y_true, y_pred)):.4f}\")\n",
    "    print(f\"R² Score: {r2_score(y_true, y_pred):.4f}\")\n",
    "\n",
    "evaluate_model(\"Random Forest\", y_test, rf_preds)\n",
    "evaluate_model(\"LSTM\", y_test, lstm_preds)\n"
   ]
  },
  {
   "cell_type": "code",
   "execution_count": null,
   "id": "193a44e4-1455-401a-8da5-eed1e497938b",
   "metadata": {},
   "outputs": [],
   "source": []
  },
  {
   "cell_type": "code",
   "execution_count": null,
   "id": "3c9a16a6-0883-4bb5-a677-65cf4644ad09",
   "metadata": {},
   "outputs": [],
   "source": []
  }
 ],
 "metadata": {
  "kernelspec": {
   "display_name": "Python 3 (ipykernel)",
   "language": "python",
   "name": "python3"
  },
  "language_info": {
   "codemirror_mode": {
    "name": "ipython",
    "version": 3
   },
   "file_extension": ".py",
   "mimetype": "text/x-python",
   "name": "python",
   "nbconvert_exporter": "python",
   "pygments_lexer": "ipython3",
   "version": "3.12.7"
  }
 },
 "nbformat": 4,
 "nbformat_minor": 5
}
